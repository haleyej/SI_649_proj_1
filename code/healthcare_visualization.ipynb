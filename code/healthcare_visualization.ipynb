{
 "cells": [
  {
   "cell_type": "code",
   "execution_count": 1,
   "id": "dead1687",
   "metadata": {},
   "outputs": [],
   "source": [
    "import pandas as pd\n",
    "import numpy as np \n",
    "import os\n",
    "import altair as alt\n",
    "import tabula \n",
    "import html5lib"
   ]
  },
  {
   "cell_type": "code",
   "execution_count": 20,
   "id": "e31d8c14",
   "metadata": {},
   "outputs": [],
   "source": [
    "pd.options.mode.chained_assignment = None"
   ]
  },
  {
   "cell_type": "code",
   "execution_count": 268,
   "id": "65298ae9",
   "metadata": {},
   "outputs": [],
   "source": [
    "dfs = []\n",
    "raw = []\n",
    "files = [f for f in os.listdir(\"../data\") if f.endswith('html')]\n",
    "\n",
    "for file in files:\n",
    "    target = pd.read_html(f\"../data/{file}\")[-1]\n",
    "    raw.append(target)\n",
    "    \n",
    "    disabled = target.iloc[1:8, :]\n",
    "    disabled['disability_status'] = 'disabled'\n",
    "    vals = disabled[disabled['Disability Status/ Insurance Type'] == 'Uninsured'].values[0]\n",
    "    pct_insured = 100 - float(vals[1])\n",
    "    disabled_insured_row = ['Insured', pct_insured]\n",
    "    disabled_insured_row.extend(vals[2:])\n",
    "    disabled_insured_row = pd.DataFrame([disabled_insured_row], columns = disabled.columns)\n",
    "    disabled = pd.concat([disabled, disabled_insured_row])\n",
    "    \n",
    "    not_disabled = target.iloc[9:, :]\n",
    "    not_disabled['disability_status'] = 'not_disabled'\n",
    "    vals = not_disabled[not_disabled['Disability Status/ Insurance Type'] == 'Uninsured'].values[0]\n",
    "    pct_insured = 100 - float(vals[1])\n",
    "    not_disabled_insured_row = ['Insured', pct_insured]\n",
    "    not_disabled_insured_row.extend(vals[2:])\n",
    "    not_disabled_insured_row = pd.DataFrame([not_disabled_insured_row], columns = not_disabled.columns)\n",
    "    not_disabled = pd.concat([not_disabled, not_disabled_insured_row])\n",
    "    \n",
    "    \n",
    "    target = pd.concat([not_disabled, disabled])\n",
    "    target['year'] = int(file.split(\"_\")[-1][:4])\n",
    "    dfs.append(target)\n",
    "\n",
    "    \n",
    "df = pd.concat(dfs).reset_index(drop = True)\n",
    "raw_df = pd.concat(raw).reset_index(drop = True)"
   ]
  },
  {
   "cell_type": "code",
   "execution_count": 269,
   "id": "03b57704",
   "metadata": {},
   "outputs": [],
   "source": [
    "targets = ['Employer/Union', 'Purchased', 'Medicare', 'Medicaid', 'Insured', 'Any Disability', 'Uninsured']"
   ]
  },
  {
   "cell_type": "code",
   "execution_count": 270,
   "id": "5db9d356",
   "metadata": {},
   "outputs": [],
   "source": [
    "#df = df[df['Disability Status/ Insurance Type'].isin(targets)]\n",
    "df = df.rename(columns = {'Disability Status/ Insurance Type': 'type'})"
   ]
  },
  {
   "cell_type": "code",
   "execution_count": 271,
   "id": "2ebc70cd",
   "metadata": {},
   "outputs": [],
   "source": [
    "insured = df[(df.type == 'Insured') & (df.disability_status == 'disabled')]\n",
    "uninsured = df[(df.type == 'Uninsured') & (df.disability_status == 'disabled')]\n",
    "employer = df[(df.type == 'Employer/Union') & (df.disability_status == 'disabled')]\n",
    "purchased = df[(df.type == 'Purchased') & (df.disability_status == 'disabled')]\n",
    "medicare = df[(df.type == 'Medicare') & (df.disability_status == 'disabled')]\n",
    "medicaid = df[(df.type == 'Medicaid') & (df.disability_status == 'disabled')]"
   ]
  },
  {
   "cell_type": "code",
   "execution_count": 284,
   "id": "c2c30ccc",
   "metadata": {},
   "outputs": [],
   "source": [
    "disabled = df[(df.disability_status == 'disabled') & (df.type != 'Insured') & (df.type != 'Uninsured')]\n",
    "\n",
    "all_uninsured = df[df.type == 'Uninsured']"
   ]
  },
  {
   "cell_type": "code",
   "execution_count": 325,
   "id": "0418b757",
   "metadata": {},
   "outputs": [
    {
     "data": {
      "text/html": [
       "\n",
       "<div id=\"altair-viz-042d5a4fc8b94e4a95cc4a8a70061b4a\"></div>\n",
       "<script type=\"text/javascript\">\n",
       "  var VEGA_DEBUG = (typeof VEGA_DEBUG == \"undefined\") ? {} : VEGA_DEBUG;\n",
       "  (function(spec, embedOpt){\n",
       "    let outputDiv = document.currentScript.previousElementSibling;\n",
       "    if (outputDiv.id !== \"altair-viz-042d5a4fc8b94e4a95cc4a8a70061b4a\") {\n",
       "      outputDiv = document.getElementById(\"altair-viz-042d5a4fc8b94e4a95cc4a8a70061b4a\");\n",
       "    }\n",
       "    const paths = {\n",
       "      \"vega\": \"https://cdn.jsdelivr.net/npm//vega@5?noext\",\n",
       "      \"vega-lib\": \"https://cdn.jsdelivr.net/npm//vega-lib?noext\",\n",
       "      \"vega-lite\": \"https://cdn.jsdelivr.net/npm//vega-lite@4.17.0?noext\",\n",
       "      \"vega-embed\": \"https://cdn.jsdelivr.net/npm//vega-embed@6?noext\",\n",
       "    };\n",
       "\n",
       "    function maybeLoadScript(lib, version) {\n",
       "      var key = `${lib.replace(\"-\", \"\")}_version`;\n",
       "      return (VEGA_DEBUG[key] == version) ?\n",
       "        Promise.resolve(paths[lib]) :\n",
       "        new Promise(function(resolve, reject) {\n",
       "          var s = document.createElement('script');\n",
       "          document.getElementsByTagName(\"head\")[0].appendChild(s);\n",
       "          s.async = true;\n",
       "          s.onload = () => {\n",
       "            VEGA_DEBUG[key] = version;\n",
       "            return resolve(paths[lib]);\n",
       "          };\n",
       "          s.onerror = () => reject(`Error loading script: ${paths[lib]}`);\n",
       "          s.src = paths[lib];\n",
       "        });\n",
       "    }\n",
       "\n",
       "    function showError(err) {\n",
       "      outputDiv.innerHTML = `<div class=\"error\" style=\"color:red;\">${err}</div>`;\n",
       "      throw err;\n",
       "    }\n",
       "\n",
       "    function displayChart(vegaEmbed) {\n",
       "      vegaEmbed(outputDiv, spec, embedOpt)\n",
       "        .catch(err => showError(`Javascript Error: ${err.message}<br>This usually means there's a typo in your chart specification. See the javascript console for the full traceback.`));\n",
       "    }\n",
       "\n",
       "    if(typeof define === \"function\" && define.amd) {\n",
       "      requirejs.config({paths});\n",
       "      require([\"vega-embed\"], displayChart, err => showError(`Error loading script: ${err.message}`));\n",
       "    } else {\n",
       "      maybeLoadScript(\"vega\", \"5\")\n",
       "        .then(() => maybeLoadScript(\"vega-lite\", \"4.17.0\"))\n",
       "        .then(() => maybeLoadScript(\"vega-embed\", \"6\"))\n",
       "        .catch(showError)\n",
       "        .then(() => displayChart(vegaEmbed));\n",
       "    }\n",
       "  })({\"config\": {\"view\": {\"continuousWidth\": 400, \"continuousHeight\": 300}}, \"layer\": [{\"data\": {\"name\": \"data-0b8c813ef5afa7990a12f5a74c193303\"}, \"mark\": \"line\", \"encoding\": {\"color\": {\"field\": \"disability_status\", \"type\": \"ordinal\"}, \"x\": {\"field\": \"year\", \"type\": \"ordinal\"}, \"y\": {\"field\": \"Percent\", \"type\": \"quantitative\"}}}, {\"data\": {\"name\": \"data-962f2e8e7bcbf6a416e125be109601b9\"}, \"mark\": {\"type\": \"rule\", \"color\": \"lightblue\", \"size\": 2.5}, \"encoding\": {\"x\": {\"field\": \"year\", \"type\": \"ordinal\"}}}, {\"data\": {\"name\": \"data-fbfe2440cea3351fbb8c5c6349791f37\"}, \"mark\": {\"type\": \"rule\", \"color\": \"lightblue\", \"size\": 2.5}, \"encoding\": {\"x\": {\"field\": \"year\", \"type\": \"ordinal\"}}}, {\"data\": {\"name\": \"data-962f2e8e7bcbf6a416e125be109601b9\"}, \"mark\": {\"type\": \"text\", \"dy\": 135, \"fontSize\": 10, \"text\": \"The Affordable Care Act \\n(aka 'Obamacare') passes\"}}, {\"data\": {\"name\": \"data-fbfe2440cea3351fbb8c5c6349791f37\"}, \"mark\": {\"type\": \"text\", \"dy\": 135, \"fontSize\": 10, \"text\": \"Most ACA Provisions Go Into Effect\"}}], \"width\": 350, \"$schema\": \"https://vega.github.io/schema/vega-lite/v4.17.0.json\", \"datasets\": {\"data-0b8c813ef5afa7990a12f5a74c193303\": [{\"type\": \"Uninsured\", \"Percent\": \"21.4\", \"MOE\": \"0.09\", \"Number\": \"34277500\", \"MOE.1\": \"153620\", \"Base Pop.\": \"160122800\", \"Sample Size\": \"1547305\", \"disability_status\": \"not_disabled\", \"year\": 2010}, {\"type\": \"Uninsured\", \"Percent\": \"17.8\", \"MOE\": \"0.25\", \"Number\": \"3271300\", \"MOE.1\": \"50060\", \"Base Pop.\": \"18348600\", \"Sample Size\": \"182621\", \"disability_status\": \"disabled\", \"year\": 2010}, {\"type\": \"Uninsured\", \"Percent\": \"21.2\", \"MOE\": \"0.09\", \"Number\": \"34180600\", \"MOE.1\": \"153490\", \"Base Pop.\": \"161178900\", \"Sample Size\": \"1528273\", \"disability_status\": \"not_disabled\", \"year\": 2011}, {\"type\": \"Uninsured\", \"Percent\": \"17.5\", \"MOE\": \"0.24\", \"Number\": \"3303600\", \"MOE.1\": \"50310\", \"Base Pop.\": \"18858600\", \"Sample Size\": \"198735\", \"disability_status\": \"disabled\", \"year\": 2011}, {\"type\": \"Uninsured\", \"Percent\": \"12.3\", \"MOE\": \"0.07\", \"Number\": \"20156800\", \"MOE.1\": \"113850\", \"Base Pop.\": \"164520200\", \"Sample Size\": \"1536835\", \"disability_status\": \"not_disabled\", \"year\": 2016}, {\"type\": \"Uninsured\", \"Percent\": \"9.7\", \"MOE\": \"0.17\", \"Number\": \"1949800\", \"MOE.1\": \"36460\", \"Base Pop.\": \"20062500\", \"Sample Size\": \"198696\", \"disability_status\": \"disabled\", \"year\": 2016}, {\"type\": \"Uninsured\", \"Percent\": \"12.4\", \"MOE\": \"0.07\", \"Number\": \"20587100\", \"MOE.1\": \"115010\", \"Base Pop.\": \"165987300\", \"Sample Size\": \"1556444\", \"disability_status\": \"not_disabled\", \"year\": 2017}, {\"type\": \"Uninsured\", \"Percent\": \"9.8\", \"MOE\": \"0.18\", \"Number\": \"1933300\", \"MOE.1\": \"36300\", \"Base Pop.\": \"19637200\", \"Sample Size\": \"195644\", \"disability_status\": \"disabled\", \"year\": 2017}, {\"type\": \"Uninsured\", \"Percent\": \"16.5\", \"MOE\": \"0.08\", \"Number\": \"27008100\", \"MOE.1\": \"130210\", \"Base Pop.\": \"163511000\", \"Sample Size\": \"1534915\", \"disability_status\": \"not_disabled\", \"year\": 2014}, {\"type\": \"Uninsured\", \"Percent\": \"13.3\", \"MOE\": \"0.20\", \"Number\": \"2625800\", \"MOE.1\": \"42260\", \"Base Pop.\": \"19754700\", \"Sample Size\": \"200275\", \"disability_status\": \"disabled\", \"year\": 2014}, {\"type\": \"Uninsured\", \"Percent\": \"12.6\", \"MOE\": \"0.07\", \"Number\": \"20965900\", \"MOE.1\": \"116010\", \"Base Pop.\": \"166425000\", \"Sample Size\": \"1561181\", \"disability_status\": \"not_disabled\", \"year\": 2018}, {\"type\": \"Uninsured\", \"Percent\": \"10\", \"MOE\": \"0.18\", \"Number\": \"1929300\", \"MOE.1\": \"36270\", \"Base Pop.\": \"19338800\", \"Sample Size\": \"191849\", \"disability_status\": \"disabled\", \"year\": 2018}, {\"type\": \"Uninsured\", \"Percent\": \"13\", \"MOE\": \"0.07\", \"Number\": \"21541200\", \"MOE.1\": \"117490\", \"Base Pop.\": \"166049800\", \"Sample Size\": \"1560321\", \"disability_status\": \"not_disabled\", \"year\": 2019}, {\"type\": \"Uninsured\", \"Percent\": \"10.4\", \"MOE\": \"0.18\", \"Number\": \"2028100\", \"MOE.1\": \"37180\", \"Base Pop.\": \"19477300\", \"Sample Size\": \"193077\", \"disability_status\": \"disabled\", \"year\": 2019}, {\"type\": \"Uninsured\", \"Percent\": \"13.4\", \"MOE\": \"0.07\", \"Number\": \"22049400\", \"MOE.1\": \"118680\", \"Base Pop.\": \"164707900\", \"Sample Size\": \"1540991\", \"disability_status\": \"not_disabled\", \"year\": 2015}, {\"type\": \"Uninsured\", \"Percent\": \"10.4\", \"MOE\": \"0.18\", \"Number\": \"2046200\", \"MOE.1\": \"37340\", \"Base Pop.\": \"19703800\", \"Sample Size\": \"198395\", \"disability_status\": \"disabled\", \"year\": 2015}, {\"type\": \"Uninsured\", \"Percent\": \"19.5\", \"MOE\": \"0.09\", \"Number\": \"30614200\", \"MOE.1\": \"154590\", \"Base Pop.\": \"157055300\", \"Sample Size\": \"1514867\", \"disability_status\": \"not_disabled\", \"year\": 2008}, {\"type\": \"Uninsured\", \"Percent\": \"18.2\", \"MOE\": \"0.27\", \"Number\": \"3330800\", \"MOE.1\": \"53470\", \"Base Pop.\": \"18312900\", \"Sample Size\": \"178808\", \"disability_status\": \"disabled\", \"year\": 2008}, {\"type\": \"Uninsured\", \"Percent\": \"20.9\", \"MOE\": \"0.08\", \"Number\": \"33862100\", \"MOE.1\": \"143940\", \"Base Pop.\": \"162107000\", \"Sample Size\": \"1532753\", \"disability_status\": \"not_disabled\", \"year\": 2012}, {\"type\": \"Uninsured\", \"Percent\": \"17.2\", \"MOE\": \"0.23\", \"Number\": \"3254200\", \"MOE.1\": \"47000\", \"Base Pop.\": \"18890100\", \"Sample Size\": \"194574\", \"disability_status\": \"disabled\", \"year\": 2012}, {\"type\": \"Uninsured\", \"Percent\": \"20.6\", \"MOE\": \"0.08\", \"Number\": \"33412100\", \"MOE.1\": \"143150\", \"Base Pop.\": \"162331700\", \"Sample Size\": \"1542890\", \"disability_status\": \"not_disabled\", \"year\": 2013}, {\"type\": \"Uninsured\", \"Percent\": \"17\", \"MOE\": \"0.22\", \"Number\": \"3338200\", \"MOE.1\": \"47590\", \"Base Pop.\": \"19618200\", \"Sample Size\": \"199997\", \"disability_status\": \"disabled\", \"year\": 2013}, {\"type\": \"Uninsured\", \"Percent\": \"20.5\", \"MOE\": \"0.07\", \"Number\": \"32475500\", \"MOE.1\": \"114660\", \"Base Pop.\": \"158622200\", \"Sample Size\": \"1528114\", \"disability_status\": \"not_disabled\", \"year\": 2009}, {\"type\": \"Uninsured\", \"Percent\": \"17.4\", \"MOE\": \"0.19\", \"Number\": \"3192200\", \"MOE.1\": \"37820\", \"Base Pop.\": \"18382600\", \"Sample Size\": \"181131\", \"disability_status\": \"disabled\", \"year\": 2009}], \"data-962f2e8e7bcbf6a416e125be109601b9\": [{\"year\": 2010}], \"data-fbfe2440cea3351fbb8c5c6349791f37\": [{\"year\": 2014}]}}, {\"mode\": \"vega-lite\"});\n",
       "</script>"
      ],
      "text/plain": [
       "alt.LayerChart(...)"
      ]
     },
     "execution_count": 325,
     "metadata": {},
     "output_type": "execute_result"
    }
   ],
   "source": [
    "highlight = alt.selection_single(on = 'mouseover', fields = ['type'], nearest = True)\n",
    "color_condition = alt.condition(highlight, alt.Color('type:N'), alt.value('gray'))\n",
    "\n",
    "aca_df = pd.DataFrame({'year': [2010]})\n",
    "aca_effect_df = pd.DataFrame({'year': [2014]})\n",
    "\n",
    "uninsured_rates = alt.Chart(all_uninsured).mark_line().encode(\n",
    "    x = alt.X('year:O'), \n",
    "    y = alt.Y('Percent:Q'), \n",
    "    color = alt.Color('disability_status:O')\n",
    ")\n",
    "\n",
    "aca_passage = alt.Chart(aca_df).mark_rule(\n",
    "    color = 'lightblue', \n",
    "    size = 2.5\n",
    ").encode(\n",
    "    x = alt.X('year:O')\n",
    ")\n",
    "\n",
    "aca_passage_text = alt.Chart(aca_df).mark_text(\n",
    "    text = \"The Affordable Care Act \\n(aka 'Obamacare') passes\",\n",
    "    fontSize = 10, \n",
    "    dy = 135\n",
    ")\n",
    "\n",
    "aca_effect = alt.Chart(aca_effect_df).mark_rule(\n",
    "    color = 'lightblue', \n",
    "    size = 2.5\n",
    ").encode(\n",
    "    x = alt.X('year:O')\n",
    ")\n",
    "\n",
    "aca_effect_text = alt.Chart(aca_effect_df).mark_text(\n",
    "    text = 'Most ACA Provisions Go Into Effect', \n",
    "    fontSize = 10, \n",
    "    dy = 135\n",
    ")\n",
    "\n",
    "insured_lines = alt.Chart(disabled).mark_line().encode(\n",
    "    x = alt.X('year:O'),\n",
    "    y = alt.Y('Percent:Q'),\n",
    "    color = alt.Color('type:N')\n",
    ")\n",
    "\n",
    "insured_points = alt.Chart(disabled).add_selection(\n",
    "    highlight\n",
    ").mark_circle().encode(\n",
    "    x = alt.X('year:O'),\n",
    "    y = alt.Y('Percent:Q'),\n",
    "    opacity = alt.value(0)\n",
    ")\n",
    "\n",
    "insured_lines = insured_lines.encode(\n",
    "    color = color_condition\n",
    ")\n",
    "\n",
    "alt.layer(uninsured_rates, aca_passage, aca_effect, aca_passage_text, aca_effect_text\n",
    ").properties(width = 350)\n",
    "\n",
    "#| insured_points + insured_lines"
   ]
  },
  {
   "cell_type": "code",
   "execution_count": null,
   "id": "b8c1e6c7",
   "metadata": {},
   "outputs": [],
   "source": [
    "alt.Chart(medicare).add_selection(selection_2).mark_point().encode(\n",
    "    x = alt.X('year:O'), \n",
    "    y = alt.Y('Percent:Q'), \n",
    "    color = color_selection\n",
    ")"
   ]
  }
 ],
 "metadata": {
  "kernelspec": {
   "display_name": "Python 3 (ipykernel)",
   "language": "python",
   "name": "python3"
  },
  "language_info": {
   "codemirror_mode": {
    "name": "ipython",
    "version": 3
   },
   "file_extension": ".py",
   "mimetype": "text/x-python",
   "name": "python",
   "nbconvert_exporter": "python",
   "pygments_lexer": "ipython3",
   "version": "3.9.13"
  }
 },
 "nbformat": 4,
 "nbformat_minor": 5
}
