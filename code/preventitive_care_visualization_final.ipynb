{
 "cells": [
  {
   "cell_type": "markdown",
   "id": "acff648b",
   "metadata": {},
   "source": [
    "<h1>SI 649 Midterm Project</h1>\n",
    "<b>Haley Johnson</b></br>\n",
    "<p>Code to create interactive visualization</p>"
   ]
  },
  {
   "cell_type": "code",
   "execution_count": 2,
   "id": "f5c1d759",
   "metadata": {},
   "outputs": [],
   "source": [
    "import pandas as pd\n",
    "import numpy as np \n",
    "import os\n",
    "import altair as alt"
   ]
  },
  {
   "cell_type": "code",
   "execution_count": 3,
   "id": "edf6f05a",
   "metadata": {},
   "outputs": [],
   "source": [
    "pd.options.mode.chained_assignment = None"
   ]
  },
  {
   "cell_type": "code",
   "execution_count": 4,
   "id": "ee0c236b",
   "metadata": {},
   "outputs": [],
   "source": [
    "df = pd.read_csv(\"../data/preventitive_care.csv\")"
   ]
  },
  {
   "cell_type": "markdown",
   "id": "f8b56773",
   "metadata": {},
   "source": [
    "<h2>Manipulate Data Frame</h2>"
   ]
  },
  {
   "cell_type": "code",
   "execution_count": 5,
   "id": "693a678b",
   "metadata": {},
   "outputs": [],
   "source": [
    "df = df.drop(columns = ['FootnoteText', 'Url', 'FootnoteType'])"
   ]
  },
  {
   "cell_type": "code",
   "execution_count": 6,
   "id": "06edf537",
   "metadata": {},
   "outputs": [],
   "source": [
    "preventitive_care = df[(df.Category == 'Prevention & Screenings') & (df.Year == 2020.0) & (df.Response == 'Yes')]\n",
    "\n",
    "preventitive_care['Data_Value'] = preventitive_care.Data_Value / 100\n",
    "preventitive_care['High_Confidence_Limit'] = preventitive_care.High_Confidence_Limit / 100\n",
    "preventitive_care['Low_Confidence_Limit'] = preventitive_care.Low_Confidence_Limit / 100\n",
    "preventitive_care['margin_of_error'] = preventitive_care['High_Confidence_Limit'] - preventitive_care['Data_Value']"
   ]
  },
  {
   "cell_type": "code",
   "execution_count": 7,
   "id": "79f43232",
   "metadata": {},
   "outputs": [],
   "source": [
    "preventitive_care['short_question'] = preventitive_care['Question'].replace('Mammogram in the past 2 years among females 50 to 74 years of age', 'Mammograms')\n",
    "preventitive_care.short_question = preventitive_care.short_question.replace('Up-to-date cervical cancer screening among females 21 to 65 years of age', 'Cervical Cancer Screening')\n",
    "preventitive_care.short_question = preventitive_care.short_question.replace('Up-to-date colorectal cancer screening among adults 50 to 75 years of age', 'Colorectcal Cancer Screening')\n",
    "preventitive_care.short_question = preventitive_care.short_question.replace('Routine check-up in the past year among adults 18 years of age or older', 'Routine Check Up')\n",
    "preventitive_care.short_question = preventitive_care.short_question.replace('Visited a dentist in the past year among adults 18 years of age or older', 'Dentist Visit')\n",
    "preventitive_care.short_question = preventitive_care.short_question.replace('Had a flu vaccine in the past 12 months among adults 18 years of age or older', 'Flu Vaccine')"
   ]
  },
  {
   "cell_type": "markdown",
   "id": "87c81e23",
   "metadata": {},
   "source": [
    "<h2>Visualization</h2>"
   ]
  },
  {
   "cell_type": "code",
   "execution_count": 50,
   "id": "e48b2b46",
   "metadata": {
    "scrolled": true
   },
   "outputs": [
    {
     "data": {
      "text/html": [
       "\n",
       "<div id=\"altair-viz-c745f848f7834a699eff59660c690b95\"></div>\n",
       "<script type=\"text/javascript\">\n",
       "  var VEGA_DEBUG = (typeof VEGA_DEBUG == \"undefined\") ? {} : VEGA_DEBUG;\n",
       "  (function(spec, embedOpt){\n",
       "    let outputDiv = document.currentScript.previousElementSibling;\n",
       "    if (outputDiv.id !== \"altair-viz-c745f848f7834a699eff59660c690b95\") {\n",
       "      outputDiv = document.getElementById(\"altair-viz-c745f848f7834a699eff59660c690b95\");\n",
       "    }\n",
       "    const paths = {\n",
       "      \"vega\": \"https://cdn.jsdelivr.net/npm//vega@5?noext\",\n",
       "      \"vega-lib\": \"https://cdn.jsdelivr.net/npm//vega-lib?noext\",\n",
       "      \"vega-lite\": \"https://cdn.jsdelivr.net/npm//vega-lite@4.17.0?noext\",\n",
       "      \"vega-embed\": \"https://cdn.jsdelivr.net/npm//vega-embed@6?noext\",\n",
       "    };\n",
       "\n",
       "    function maybeLoadScript(lib, version) {\n",
       "      var key = `${lib.replace(\"-\", \"\")}_version`;\n",
       "      return (VEGA_DEBUG[key] == version) ?\n",
       "        Promise.resolve(paths[lib]) :\n",
       "        new Promise(function(resolve, reject) {\n",
       "          var s = document.createElement('script');\n",
       "          document.getElementsByTagName(\"head\")[0].appendChild(s);\n",
       "          s.async = true;\n",
       "          s.onload = () => {\n",
       "            VEGA_DEBUG[key] = version;\n",
       "            return resolve(paths[lib]);\n",
       "          };\n",
       "          s.onerror = () => reject(`Error loading script: ${paths[lib]}`);\n",
       "          s.src = paths[lib];\n",
       "        });\n",
       "    }\n",
       "\n",
       "    function showError(err) {\n",
       "      outputDiv.innerHTML = `<div class=\"error\" style=\"color:red;\">${err}</div>`;\n",
       "      throw err;\n",
       "    }\n",
       "\n",
       "    function displayChart(vegaEmbed) {\n",
       "      vegaEmbed(outputDiv, spec, embedOpt)\n",
       "        .catch(err => showError(`Javascript Error: ${err.message}<br>This usually means there's a typo in your chart specification. See the javascript console for the full traceback.`));\n",
       "    }\n",
       "\n",
       "    if(typeof define === \"function\" && define.amd) {\n",
       "      requirejs.config({paths});\n",
       "      require([\"vega-embed\"], displayChart, err => showError(`Error loading script: ${err.message}`));\n",
       "    } else {\n",
       "      maybeLoadScript(\"vega\", \"5\")\n",
       "        .then(() => maybeLoadScript(\"vega-lite\", \"4.17.0\"))\n",
       "        .then(() => maybeLoadScript(\"vega-embed\", \"6\"))\n",
       "        .catch(showError)\n",
       "        .then(() => displayChart(vegaEmbed));\n",
       "    }\n",
       "  })({\"config\": {\"view\": {\"continuousWidth\": 400, \"continuousHeight\": 300}, \"axisX\": {\"labelAngle\": 0}}, \"vconcat\": [{\"layer\": [{\"mark\": {\"type\": \"rule\", \"color\": \"#4676f0\", \"size\": 6}, \"encoding\": {\"tooltip\": [{\"field\": \"Data_Value\", \"format\": \".2%\", \"title\": \"Percent Up To Date\", \"type\": \"quantitative\"}, {\"field\": \"margin_of_error\", \"format\": \".2%\", \"title\": \"Margin of Error\", \"type\": \"quantitative\"}], \"x\": {\"axis\": {\"format\": \".0%\", \"labelFontSize\": 11.5, \"title\": \"Percent Up To Date\", \"titleFontSize\": 13.5}, \"field\": \"High_Confidence_Limit\", \"scale\": {\"domain\": [0.35, 0.87], \"zero\": false}, \"type\": \"quantitative\"}, \"x2\": {\"field\": \"Low_Confidence_Limit\"}, \"y\": {\"axis\": {\"labelFontSize\": 11.5, \"title\": \"Care Type\", \"titleFontSize\": 13.5}, \"field\": \"short_question\", \"type\": \"nominal\"}}, \"selection\": {\"selector026\": {\"type\": \"single\", \"fields\": [\"Stratification1\"], \"init\": {\"Stratification1\": \"Any Disability\"}, \"bind\": {\"input\": \"select\", \"options\": [\"Any Disability\", \"Cognitive Disability\", \"Hearing Disability\", \"Mobility Disability\", \"Vision Disability\", \"No Disability\"], \"name\": \"Ability Type: \"}, \"empty\": \"none\"}, \"selector028\": {\"type\": \"interval\", \"bind\": \"scales\", \"encodings\": [\"x\", \"y\"]}}, \"title\": {\"text\": \"Many Disabled People Aren't Up To Date on Important Preventitive Care\", \"anchor\": \"start\", \"dx\": 45, \"fontSize\": 22, \"subtitle\": \"Population-adjusted prevelance of preventitive care\", \"subtitleFontSize\": 16, \"subtitlePadding\": 6}, \"transform\": [{\"filter\": {\"selection\": \"selector026\"}}]}, {\"mark\": {\"type\": \"point\", \"color\": \"#4676f0\", \"filled\": true, \"opacity\": 1.0, \"size\": 125}, \"encoding\": {\"tooltip\": [{\"field\": \"Data_Value\", \"format\": \".2%\", \"title\": \"Percent Up To Date\", \"type\": \"quantitative\"}, {\"field\": \"margin_of_error\", \"format\": \".2%\", \"title\": \"Margin of Error\", \"type\": \"quantitative\"}], \"x\": {\"field\": \"Data_Value\", \"type\": \"quantitative\"}, \"y\": {\"axis\": {\"labelFontSize\": 100}, \"field\": \"short_question\", \"type\": \"nominal\"}}, \"selection\": {\"selector027\": {\"type\": \"single\", \"encodings\": [\"x\", \"y\"], \"on\": \"mouseover\", \"nearest\": true, \"empty\": \"none\"}}, \"transform\": [{\"filter\": {\"selection\": \"selector026\"}}]}], \"height\": 300, \"width\": 750}, {\"layer\": [{\"mark\": {\"type\": \"rect\", \"color\": \"#fff\"}, \"encoding\": {\"color\": {\"condition\": {\"value\": \"#7396f0\", \"selection\": \"selector027\"}, \"value\": \"#f7f9fc\"}, \"x\": {\"axis\": {\"labelFontSize\": 10.5, \"title\": \"\"}, \"field\": \"Stratification1\", \"sort\": [\"Any Disability\", \"Cognitive Disability\", \"Hearing Disability\", \"Mobility Disability\", \"Vision Disability\", \"No Disability\"], \"type\": \"nominal\"}, \"y\": {\"axis\": {\"labelFontSize\": 10.5, \"title\": \"Care Type\", \"titleFontSize\": 13}, \"field\": \"short_question\", \"type\": \"nominal\"}}}, {\"mark\": {\"type\": \"text\", \"baseline\": \"middle\"}, \"encoding\": {\"text\": {\"field\": \"Data_Value\", \"format\": \".1%\", \"type\": \"quantitative\"}, \"x\": {\"field\": \"Stratification1\", \"sort\": [\"Any Disability\", \"Cognitive Disability\", \"Hearing Disability\", \"Mobility Disability\", \"Vision Disability\", \"No Disability\"], \"type\": \"nominal\"}, \"y\": {\"field\": \"short_question\", \"type\": \"nominal\"}}}], \"title\": {\"text\": \"Data Table:\", \"anchor\": \"start\", \"dx\": 162, \"dy\": -2, \"fontSize\": 14}, \"width\": 750}], \"data\": {\"name\": \"data-1a958642d52782dcb896523472760f15\"}, \"$schema\": \"https://vega.github.io/schema/vega-lite/v4.17.0.json\", \"datasets\": {\"data-1a958642d52782dcb896523472760f15\": [{\"Year\": 2020.0, \"LocationAbbr\": \"US\", \"LocationDesc\": \"United States, DC & Territories\", \"Question\": \"Mammogram in the past 2 years among females 50 to 74 years of age\", \"Category\": \"Prevention & Screenings\", \"StratificationCategory1\": \"Disability Status\", \"Stratification1\": \"Any Disability\", \"StratificationCategory2\": null, \"Stratification2\": null, \"Response\": \"Yes\", \"DataValueType\": \"Prevalence\", \"Data_Value\": 0.735, \"Data_Value_Footnote_Symbol\": null, \"Data_Value_Footnote\": null, \"Low_Confidence_Limit\": 0.721, \"High_Confidence_Limit\": 0.748, \"WeightedNumber\": 10728289.0, \"margin_of_error\": 0.013000000000000012, \"short_question\": \"Mammograms\"}, {\"Year\": 2020.0, \"LocationAbbr\": \"US\", \"LocationDesc\": \"United States, DC & Territories\", \"Question\": \"Mammogram in the past 2 years among females 50 to 74 years of age\", \"Category\": \"Prevention & Screenings\", \"StratificationCategory1\": \"Disability Type\", \"Stratification1\": \"Cognitive Disability\", \"StratificationCategory2\": null, \"Stratification2\": null, \"Response\": \"Yes\", \"DataValueType\": \"Prevalence\", \"Data_Value\": 0.722, \"Data_Value_Footnote_Symbol\": null, \"Data_Value_Footnote\": null, \"Low_Confidence_Limit\": 0.7020000000000001, \"High_Confidence_Limit\": 0.741, \"WeightedNumber\": 3631869.0, \"margin_of_error\": 0.019000000000000017, \"short_question\": \"Mammograms\"}, {\"Year\": 2020.0, \"LocationAbbr\": \"US\", \"LocationDesc\": \"United States, DC & Territories\", \"Question\": \"Mammogram in the past 2 years among females 50 to 74 years of age\", \"Category\": \"Prevention & Screenings\", \"StratificationCategory1\": \"Disability Type\", \"Stratification1\": \"Hearing Disability\", \"StratificationCategory2\": null, \"Stratification2\": null, \"Response\": \"Yes\", \"DataValueType\": \"Prevalence\", \"Data_Value\": 0.752, \"Data_Value_Footnote_Symbol\": null, \"Data_Value_Footnote\": null, \"Low_Confidence_Limit\": 0.726, \"High_Confidence_Limit\": 0.7759999999999999, \"WeightedNumber\": 2098659.0, \"margin_of_error\": 0.02399999999999991, \"short_question\": \"Mammograms\"}, {\"Year\": 2020.0, \"LocationAbbr\": \"US\", \"LocationDesc\": \"United States, DC & Territories\", \"Question\": \"Mammogram in the past 2 years among females 50 to 74 years of age\", \"Category\": \"Prevention & Screenings\", \"StratificationCategory1\": \"Disability Type\", \"Stratification1\": \"Mobility Disability\", \"StratificationCategory2\": null, \"Stratification2\": null, \"Response\": \"Yes\", \"DataValueType\": \"Prevalence\", \"Data_Value\": 0.74, \"Data_Value_Footnote_Symbol\": null, \"Data_Value_Footnote\": null, \"Low_Confidence_Limit\": 0.7240000000000001, \"High_Confidence_Limit\": 0.755, \"WeightedNumber\": 7159511.0, \"margin_of_error\": 0.015000000000000013, \"short_question\": \"Mammograms\"}, {\"Year\": 2020.0, \"LocationAbbr\": \"US\", \"LocationDesc\": \"United States, DC & Territories\", \"Question\": \"Mammogram in the past 2 years among females 50 to 74 years of age\", \"Category\": \"Prevention & Screenings\", \"StratificationCategory1\": \"Disability Type\", \"Stratification1\": \"Vision Disability\", \"StratificationCategory2\": null, \"Stratification2\": null, \"Response\": \"Yes\", \"DataValueType\": \"Prevalence\", \"Data_Value\": 0.701, \"Data_Value_Footnote_Symbol\": null, \"Data_Value_Footnote\": null, \"Low_Confidence_Limit\": 0.664, \"High_Confidence_Limit\": 0.735, \"WeightedNumber\": 2128751.0, \"margin_of_error\": 0.03400000000000003, \"short_question\": \"Mammograms\"}, {\"Year\": 2020.0, \"LocationAbbr\": \"US\", \"LocationDesc\": \"United States, DC & Territories\", \"Question\": \"Mammogram in the past 2 years among females 50 to 74 years of age\", \"Category\": \"Prevention & Screenings\", \"StratificationCategory1\": \"Disability Status\", \"Stratification1\": \"No Disability\", \"StratificationCategory2\": null, \"Stratification2\": null, \"Response\": \"Yes\", \"DataValueType\": \"Prevalence\", \"Data_Value\": 0.804, \"Data_Value_Footnote_Symbol\": null, \"Data_Value_Footnote\": null, \"Low_Confidence_Limit\": 0.797, \"High_Confidence_Limit\": 0.812, \"WeightedNumber\": 25754412.0, \"margin_of_error\": 0.008000000000000007, \"short_question\": \"Mammograms\"}, {\"Year\": 2020.0, \"LocationAbbr\": \"US\", \"LocationDesc\": \"United States, DC & Territories\", \"Question\": \"Up-to-date cervical cancer screening among females 21 to 65 years of age\", \"Category\": \"Prevention & Screenings\", \"StratificationCategory1\": \"Disability Status\", \"Stratification1\": \"Any Disability\", \"StratificationCategory2\": null, \"Stratification2\": null, \"Response\": \"Yes\", \"DataValueType\": \"Prevalence\", \"Data_Value\": 0.779, \"Data_Value_Footnote_Symbol\": null, \"Data_Value_Footnote\": null, \"Low_Confidence_Limit\": 0.765, \"High_Confidence_Limit\": 0.792, \"WeightedNumber\": 11675943.0, \"margin_of_error\": 0.013000000000000012, \"short_question\": \"Cervical Cancer Screening\"}, {\"Year\": 2020.0, \"LocationAbbr\": \"US\", \"LocationDesc\": \"United States, DC & Territories\", \"Question\": \"Up-to-date cervical cancer screening among females 21 to 65 years of age\", \"Category\": \"Prevention & Screenings\", \"StratificationCategory1\": \"Disability Type\", \"Stratification1\": \"Cognitive Disability\", \"StratificationCategory2\": null, \"Stratification2\": null, \"Response\": \"Yes\", \"DataValueType\": \"Prevalence\", \"Data_Value\": 0.774, \"Data_Value_Footnote_Symbol\": null, \"Data_Value_Footnote\": null, \"Low_Confidence_Limit\": 0.755, \"High_Confidence_Limit\": 0.792, \"WeightedNumber\": 6297386.0, \"margin_of_error\": 0.018000000000000016, \"short_question\": \"Cervical Cancer Screening\"}, {\"Year\": 2020.0, \"LocationAbbr\": \"US\", \"LocationDesc\": \"United States, DC & Territories\", \"Question\": \"Up-to-date cervical cancer screening among females 21 to 65 years of age\", \"Category\": \"Prevention & Screenings\", \"StratificationCategory1\": \"Disability Type\", \"Stratification1\": \"Hearing Disability\", \"StratificationCategory2\": null, \"Stratification2\": null, \"Response\": \"Yes\", \"DataValueType\": \"Prevalence\", \"Data_Value\": 0.762, \"Data_Value_Footnote_Symbol\": null, \"Data_Value_Footnote\": null, \"Low_Confidence_Limit\": 0.7240000000000001, \"High_Confidence_Limit\": 0.795, \"WeightedNumber\": 1422602.0, \"margin_of_error\": 0.03300000000000003, \"short_question\": \"Cervical Cancer Screening\"}, {\"Year\": 2020.0, \"LocationAbbr\": \"US\", \"LocationDesc\": \"United States, DC & Territories\", \"Question\": \"Up-to-date cervical cancer screening among females 21 to 65 years of age\", \"Category\": \"Prevention & Screenings\", \"StratificationCategory1\": \"Disability Type\", \"Stratification1\": \"Mobility Disability\", \"StratificationCategory2\": null, \"Stratification2\": null, \"Response\": \"Yes\", \"DataValueType\": \"Prevalence\", \"Data_Value\": 0.784, \"Data_Value_Footnote_Symbol\": null, \"Data_Value_Footnote\": null, \"Low_Confidence_Limit\": 0.762, \"High_Confidence_Limit\": 0.805, \"WeightedNumber\": 4660307.0, \"margin_of_error\": 0.02100000000000002, \"short_question\": \"Cervical Cancer Screening\"}, {\"Year\": 2020.0, \"LocationAbbr\": \"US\", \"LocationDesc\": \"United States, DC & Territories\", \"Question\": \"Up-to-date cervical cancer screening among females 21 to 65 years of age\", \"Category\": \"Prevention & Screenings\", \"StratificationCategory1\": \"Disability Type\", \"Stratification1\": \"Vision Disability\", \"StratificationCategory2\": null, \"Stratification2\": null, \"Response\": \"Yes\", \"DataValueType\": \"Prevalence\", \"Data_Value\": 0.767, \"Data_Value_Footnote_Symbol\": null, \"Data_Value_Footnote\": null, \"Low_Confidence_Limit\": 0.7340000000000001, \"High_Confidence_Limit\": 0.7979999999999999, \"WeightedNumber\": 2353139.0, \"margin_of_error\": 0.030999999999999917, \"short_question\": \"Cervical Cancer Screening\"}, {\"Year\": 2020.0, \"LocationAbbr\": \"US\", \"LocationDesc\": \"United States, DC & Territories\", \"Question\": \"Up-to-date cervical cancer screening among females 21 to 65 years of age\", \"Category\": \"Prevention & Screenings\", \"StratificationCategory1\": \"Disability Status\", \"Stratification1\": \"No Disability\", \"StratificationCategory2\": null, \"Stratification2\": null, \"Response\": \"Yes\", \"DataValueType\": \"Prevalence\", \"Data_Value\": 0.8420000000000001, \"Data_Value_Footnote_Symbol\": null, \"Data_Value_Footnote\": null, \"Low_Confidence_Limit\": 0.836, \"High_Confidence_Limit\": 0.848, \"WeightedNumber\": 47502681.0, \"margin_of_error\": 0.005999999999999894, \"short_question\": \"Cervical Cancer Screening\"}, {\"Year\": 2020.0, \"LocationAbbr\": \"US\", \"LocationDesc\": \"United States, DC & Territories\", \"Question\": \"Up-to-date colorectal cancer screening among adults 50 to 75 years of age\", \"Category\": \"Prevention & Screenings\", \"StratificationCategory1\": \"Disability Status\", \"Stratification1\": \"Any Disability\", \"StratificationCategory2\": null, \"Stratification2\": null, \"Response\": \"Yes\", \"DataValueType\": \"Prevalence\", \"Data_Value\": 0.735, \"Data_Value_Footnote_Symbol\": null, \"Data_Value_Footnote\": null, \"Low_Confidence_Limit\": 0.725, \"High_Confidence_Limit\": 0.745, \"WeightedNumber\": 20102989.0, \"margin_of_error\": 0.010000000000000009, \"short_question\": \"Colorectcal Cancer Screening\"}, {\"Year\": 2020.0, \"LocationAbbr\": \"US\", \"LocationDesc\": \"United States, DC & Territories\", \"Question\": \"Up-to-date colorectal cancer screening among adults 50 to 75 years of age\", \"Category\": \"Prevention & Screenings\", \"StratificationCategory1\": \"Disability Type\", \"Stratification1\": \"Cognitive Disability\", \"StratificationCategory2\": null, \"Stratification2\": null, \"Response\": \"Yes\", \"DataValueType\": \"Prevalence\", \"Data_Value\": 0.713, \"Data_Value_Footnote_Symbol\": null, \"Data_Value_Footnote\": null, \"Low_Confidence_Limit\": 0.6940000000000001, \"High_Confidence_Limit\": 0.732, \"WeightedNumber\": 6111764.0, \"margin_of_error\": 0.019000000000000017, \"short_question\": \"Colorectcal Cancer Screening\"}, {\"Year\": 2020.0, \"LocationAbbr\": \"US\", \"LocationDesc\": \"United States, DC & Territories\", \"Question\": \"Up-to-date colorectal cancer screening among adults 50 to 75 years of age\", \"Category\": \"Prevention & Screenings\", \"StratificationCategory1\": \"Disability Type\", \"Stratification1\": \"Hearing Disability\", \"StratificationCategory2\": null, \"Stratification2\": null, \"Response\": \"Yes\", \"DataValueType\": \"Prevalence\", \"Data_Value\": 0.772, \"Data_Value_Footnote_Symbol\": null, \"Data_Value_Footnote\": null, \"Low_Confidence_Limit\": 0.754, \"High_Confidence_Limit\": 0.789, \"WeightedNumber\": 5977131.0, \"margin_of_error\": 0.017000000000000015, \"short_question\": \"Colorectcal Cancer Screening\"}, {\"Year\": 2020.0, \"LocationAbbr\": \"US\", \"LocationDesc\": \"United States, DC & Territories\", \"Question\": \"Up-to-date colorectal cancer screening among adults 50 to 75 years of age\", \"Category\": \"Prevention & Screenings\", \"StratificationCategory1\": \"Disability Type\", \"Stratification1\": \"Mobility Disability\", \"StratificationCategory2\": null, \"Stratification2\": null, \"Response\": \"Yes\", \"DataValueType\": \"Prevalence\", \"Data_Value\": 0.748, \"Data_Value_Footnote_Symbol\": null, \"Data_Value_Footnote\": null, \"Low_Confidence_Limit\": 0.736, \"High_Confidence_Limit\": 0.76, \"WeightedNumber\": 12413398.0, \"margin_of_error\": 0.01200000000000001, \"short_question\": \"Colorectcal Cancer Screening\"}, {\"Year\": 2020.0, \"LocationAbbr\": \"US\", \"LocationDesc\": \"United States, DC & Territories\", \"Question\": \"Up-to-date colorectal cancer screening among adults 50 to 75 years of age\", \"Category\": \"Prevention & Screenings\", \"StratificationCategory1\": \"Disability Type\", \"Stratification1\": \"Vision Disability\", \"StratificationCategory2\": null, \"Stratification2\": null, \"Response\": \"Yes\", \"DataValueType\": \"Prevalence\", \"Data_Value\": 0.6970000000000001, \"Data_Value_Footnote_Symbol\": null, \"Data_Value_Footnote\": null, \"Low_Confidence_Limit\": 0.6709999999999999, \"High_Confidence_Limit\": 0.721, \"WeightedNumber\": 3773786.0, \"margin_of_error\": 0.02399999999999991, \"short_question\": \"Colorectcal Cancer Screening\"}, {\"Year\": 2020.0, \"LocationAbbr\": \"US\", \"LocationDesc\": \"United States, DC & Territories\", \"Question\": \"Up-to-date colorectal cancer screening among adults 50 to 75 years of age\", \"Category\": \"Prevention & Screenings\", \"StratificationCategory1\": \"Disability Status\", \"Stratification1\": \"No Disability\", \"StratificationCategory2\": null, \"Stratification2\": null, \"Response\": \"Yes\", \"DataValueType\": \"Prevalence\", \"Data_Value\": 0.7170000000000001, \"Data_Value_Footnote_Symbol\": null, \"Data_Value_Footnote\": null, \"Low_Confidence_Limit\": 0.71, \"High_Confidence_Limit\": 0.723, \"WeightedNumber\": 44229841.0, \"margin_of_error\": 0.005999999999999894, \"short_question\": \"Colorectcal Cancer Screening\"}, {\"Year\": 2020.0, \"LocationAbbr\": \"US\", \"LocationDesc\": \"United States, DC & Territories\", \"Question\": \"Routine check-up in the past year among adults 18 years of age or older\", \"Category\": \"Prevention & Screenings\", \"StratificationCategory1\": \"Disability Status\", \"Stratification1\": \"Any Disability\", \"StratificationCategory2\": null, \"Stratification2\": null, \"Response\": \"Yes\", \"DataValueType\": \"Age-adjusted Prevalence\", \"Data_Value\": 0.747, \"Data_Value_Footnote_Symbol\": null, \"Data_Value_Footnote\": null, \"Low_Confidence_Limit\": 0.7390000000000001, \"High_Confidence_Limit\": 0.755, \"WeightedNumber\": 50737293.0, \"margin_of_error\": 0.008000000000000007, \"short_question\": \"Routine Check Up\"}, {\"Year\": 2020.0, \"LocationAbbr\": \"US\", \"LocationDesc\": \"United States, DC & Territories\", \"Question\": \"Routine check-up in the past year among adults 18 years of age or older\", \"Category\": \"Prevention & Screenings\", \"StratificationCategory1\": \"Disability Type\", \"Stratification1\": \"Cognitive Disability\", \"StratificationCategory2\": null, \"Stratification2\": null, \"Response\": \"Yes\", \"DataValueType\": \"Age-adjusted Prevalence\", \"Data_Value\": 0.74, \"Data_Value_Footnote_Symbol\": null, \"Data_Value_Footnote\": null, \"Low_Confidence_Limit\": 0.7290000000000001, \"High_Confidence_Limit\": 0.7509999999999999, \"WeightedNumber\": 19438312.0, \"margin_of_error\": 0.010999999999999899, \"short_question\": \"Routine Check Up\"}, {\"Year\": 2020.0, \"LocationAbbr\": \"US\", \"LocationDesc\": \"United States, DC & Territories\", \"Question\": \"Routine check-up in the past year among adults 18 years of age or older\", \"Category\": \"Prevention & Screenings\", \"StratificationCategory1\": \"Disability Type\", \"Stratification1\": \"Hearing Disability\", \"StratificationCategory2\": null, \"Stratification2\": null, \"Response\": \"Yes\", \"DataValueType\": \"Age-adjusted Prevalence\", \"Data_Value\": 0.736, \"Data_Value_Footnote_Symbol\": null, \"Data_Value_Footnote\": null, \"Low_Confidence_Limit\": 0.716, \"High_Confidence_Limit\": 0.755, \"WeightedNumber\": 13381086.0, \"margin_of_error\": 0.019000000000000017, \"short_question\": \"Routine Check Up\"}, {\"Year\": 2020.0, \"LocationAbbr\": \"US\", \"LocationDesc\": \"United States, DC & Territories\", \"Question\": \"Routine check-up in the past year among adults 18 years of age or older\", \"Category\": \"Prevention & Screenings\", \"StratificationCategory1\": \"Disability Type\", \"Stratification1\": \"Mobility Disability\", \"StratificationCategory2\": null, \"Stratification2\": null, \"Response\": \"Yes\", \"DataValueType\": \"Age-adjusted Prevalence\", \"Data_Value\": 0.8, \"Data_Value_Footnote_Symbol\": null, \"Data_Value_Footnote\": null, \"Low_Confidence_Limit\": 0.784, \"High_Confidence_Limit\": 0.815, \"WeightedNumber\": 26426259.0, \"margin_of_error\": 0.014999999999999902, \"short_question\": \"Routine Check Up\"}, {\"Year\": 2020.0, \"LocationAbbr\": \"US\", \"LocationDesc\": \"United States, DC & Territories\", \"Question\": \"Routine check-up in the past year among adults 18 years of age or older\", \"Category\": \"Prevention & Screenings\", \"StratificationCategory1\": \"Disability Type\", \"Stratification1\": \"Vision Disability\", \"StratificationCategory2\": null, \"Stratification2\": null, \"Response\": \"Yes\", \"DataValueType\": \"Age-adjusted Prevalence\", \"Data_Value\": 0.7190000000000001, \"Data_Value_Footnote_Symbol\": null, \"Data_Value_Footnote\": null, \"Low_Confidence_Limit\": 0.698, \"High_Confidence_Limit\": 0.7390000000000001, \"WeightedNumber\": 9682982.0, \"margin_of_error\": 0.020000000000000018, \"short_question\": \"Routine Check Up\"}, {\"Year\": 2020.0, \"LocationAbbr\": \"US\", \"LocationDesc\": \"United States, DC & Territories\", \"Question\": \"Routine check-up in the past year among adults 18 years of age or older\", \"Category\": \"Prevention & Screenings\", \"StratificationCategory1\": \"Disability Status\", \"Stratification1\": \"No Disability\", \"StratificationCategory2\": null, \"Stratification2\": null, \"Response\": \"Yes\", \"DataValueType\": \"Age-adjusted Prevalence\", \"Data_Value\": 0.725, \"Data_Value_Footnote_Symbol\": null, \"Data_Value_Footnote\": null, \"Low_Confidence_Limit\": 0.721, \"High_Confidence_Limit\": 0.7290000000000001, \"WeightedNumber\": 130377376.0, \"margin_of_error\": 0.004000000000000115, \"short_question\": \"Routine Check Up\"}, {\"Year\": 2020.0, \"LocationAbbr\": \"US\", \"LocationDesc\": \"United States, DC & Territories\", \"Question\": \"Visited a dentist in the past year among adults 18 years of age or older\", \"Category\": \"Prevention & Screenings\", \"StratificationCategory1\": \"Disability Status\", \"Stratification1\": \"Any Disability\", \"StratificationCategory2\": null, \"Stratification2\": null, \"Response\": \"Yes\", \"DataValueType\": \"Age-adjusted Prevalence\", \"Data_Value\": 0.536, \"Data_Value_Footnote_Symbol\": null, \"Data_Value_Footnote\": null, \"Low_Confidence_Limit\": 0.528, \"High_Confidence_Limit\": 0.545, \"WeightedNumber\": 34445496.0, \"margin_of_error\": 0.009000000000000008, \"short_question\": \"Dentist Visit\"}, {\"Year\": 2020.0, \"LocationAbbr\": \"US\", \"LocationDesc\": \"United States, DC & Territories\", \"Question\": \"Visited a dentist in the past year among adults 18 years of age or older\", \"Category\": \"Prevention & Screenings\", \"StratificationCategory1\": \"Disability Type\", \"Stratification1\": \"Cognitive Disability\", \"StratificationCategory2\": null, \"Stratification2\": null, \"Response\": \"Yes\", \"DataValueType\": \"Age-adjusted Prevalence\", \"Data_Value\": 0.517, \"Data_Value_Footnote_Symbol\": null, \"Data_Value_Footnote\": null, \"Low_Confidence_Limit\": 0.505, \"High_Confidence_Limit\": 0.529, \"WeightedNumber\": 13489437.0, \"margin_of_error\": 0.01200000000000001, \"short_question\": \"Dentist Visit\"}, {\"Year\": 2020.0, \"LocationAbbr\": \"US\", \"LocationDesc\": \"United States, DC & Territories\", \"Question\": \"Visited a dentist in the past year among adults 18 years of age or older\", \"Category\": \"Prevention & Screenings\", \"StratificationCategory1\": \"Disability Type\", \"Stratification1\": \"Hearing Disability\", \"StratificationCategory2\": null, \"Stratification2\": null, \"Response\": \"Yes\", \"DataValueType\": \"Age-adjusted Prevalence\", \"Data_Value\": 0.54, \"Data_Value_Footnote_Symbol\": null, \"Data_Value_Footnote\": null, \"Low_Confidence_Limit\": 0.519, \"High_Confidence_Limit\": 0.56, \"WeightedNumber\": 9276466.0, \"margin_of_error\": 0.020000000000000018, \"short_question\": \"Dentist Visit\"}, {\"Year\": 2020.0, \"LocationAbbr\": \"US\", \"LocationDesc\": \"United States, DC & Territories\", \"Question\": \"Visited a dentist in the past year among adults 18 years of age or older\", \"Category\": \"Prevention & Screenings\", \"StratificationCategory1\": \"Disability Type\", \"Stratification1\": \"Mobility Disability\", \"StratificationCategory2\": null, \"Stratification2\": null, \"Response\": \"Yes\", \"DataValueType\": \"Age-adjusted Prevalence\", \"Data_Value\": 0.51, \"Data_Value_Footnote_Symbol\": null, \"Data_Value_Footnote\": null, \"Low_Confidence_Limit\": 0.49200000000000005, \"High_Confidence_Limit\": 0.527, \"WeightedNumber\": 15525251.0, \"margin_of_error\": 0.017000000000000015, \"short_question\": \"Dentist Visit\"}, {\"Year\": 2020.0, \"LocationAbbr\": \"US\", \"LocationDesc\": \"United States, DC & Territories\", \"Question\": \"Visited a dentist in the past year among adults 18 years of age or older\", \"Category\": \"Prevention & Screenings\", \"StratificationCategory1\": \"Disability Type\", \"Stratification1\": \"Vision Disability\", \"StratificationCategory2\": null, \"Stratification2\": null, \"Response\": \"Yes\", \"DataValueType\": \"Age-adjusted Prevalence\", \"Data_Value\": 0.498, \"Data_Value_Footnote_Symbol\": null, \"Data_Value_Footnote\": null, \"Low_Confidence_Limit\": 0.47700000000000004, \"High_Confidence_Limit\": 0.519, \"WeightedNumber\": 6196360.0, \"margin_of_error\": 0.02100000000000002, \"short_question\": \"Dentist Visit\"}, {\"Year\": 2020.0, \"LocationAbbr\": \"US\", \"LocationDesc\": \"United States, DC & Territories\", \"Question\": \"Visited a dentist in the past year among adults 18 years of age or older\", \"Category\": \"Prevention & Screenings\", \"StratificationCategory1\": \"Disability Status\", \"Stratification1\": \"No Disability\", \"StratificationCategory2\": null, \"Stratification2\": null, \"Response\": \"Yes\", \"DataValueType\": \"Age-adjusted Prevalence\", \"Data_Value\": 0.6829999999999999, \"Data_Value_Footnote_Symbol\": null, \"Data_Value_Footnote\": null, \"Low_Confidence_Limit\": 0.679, \"High_Confidence_Limit\": 0.688, \"WeightedNumber\": 122994138.0, \"margin_of_error\": 0.0050000000000000044, \"short_question\": \"Dentist Visit\"}, {\"Year\": 2020.0, \"LocationAbbr\": \"US\", \"LocationDesc\": \"United States, DC & Territories\", \"Question\": \"Had a flu vaccine in the past 12 months among adults 18 years of age or older\", \"Category\": \"Prevention & Screenings\", \"StratificationCategory1\": \"Disability Status\", \"Stratification1\": \"Any Disability\", \"StratificationCategory2\": null, \"Stratification2\": null, \"Response\": \"Yes\", \"DataValueType\": \"Age-adjusted Prevalence\", \"Data_Value\": 0.418, \"Data_Value_Footnote_Symbol\": null, \"Data_Value_Footnote\": null, \"Low_Confidence_Limit\": 0.41, \"High_Confidence_Limit\": 0.426, \"WeightedNumber\": 30211810.0, \"margin_of_error\": 0.008000000000000007, \"short_question\": \"Flu Vaccine\"}, {\"Year\": 2020.0, \"LocationAbbr\": \"US\", \"LocationDesc\": \"United States, DC & Territories\", \"Question\": \"Had a flu vaccine in the past 12 months among adults 18 years of age or older\", \"Category\": \"Prevention & Screenings\", \"StratificationCategory1\": \"Disability Type\", \"Stratification1\": \"Cognitive Disability\", \"StratificationCategory2\": null, \"Stratification2\": null, \"Response\": \"Yes\", \"DataValueType\": \"Age-adjusted Prevalence\", \"Data_Value\": 0.413, \"Data_Value_Footnote_Symbol\": null, \"Data_Value_Footnote\": null, \"Low_Confidence_Limit\": 0.402, \"High_Confidence_Limit\": 0.424, \"WeightedNumber\": 10850636.0, \"margin_of_error\": 0.01100000000000001, \"short_question\": \"Flu Vaccine\"}, {\"Year\": 2020.0, \"LocationAbbr\": \"US\", \"LocationDesc\": \"United States, DC & Territories\", \"Question\": \"Had a flu vaccine in the past 12 months among adults 18 years of age or older\", \"Category\": \"Prevention & Screenings\", \"StratificationCategory1\": \"Disability Type\", \"Stratification1\": \"Hearing Disability\", \"StratificationCategory2\": null, \"Stratification2\": null, \"Response\": \"Yes\", \"DataValueType\": \"Age-adjusted Prevalence\", \"Data_Value\": 0.40700000000000003, \"Data_Value_Footnote_Symbol\": null, \"Data_Value_Footnote\": null, \"Low_Confidence_Limit\": 0.389, \"High_Confidence_Limit\": 0.425, \"WeightedNumber\": 8639813.0, \"margin_of_error\": 0.01799999999999996, \"short_question\": \"Flu Vaccine\"}, {\"Year\": 2020.0, \"LocationAbbr\": \"US\", \"LocationDesc\": \"United States, DC & Territories\", \"Question\": \"Had a flu vaccine in the past 12 months among adults 18 years of age or older\", \"Category\": \"Prevention & Screenings\", \"StratificationCategory1\": \"Disability Type\", \"Stratification1\": \"Mobility Disability\", \"StratificationCategory2\": null, \"Stratification2\": null, \"Response\": \"Yes\", \"DataValueType\": \"Age-adjusted Prevalence\", \"Data_Value\": 0.441, \"Data_Value_Footnote_Symbol\": null, \"Data_Value_Footnote\": null, \"Low_Confidence_Limit\": 0.424, \"High_Confidence_Limit\": 0.45799999999999996, \"WeightedNumber\": 16151139.0, \"margin_of_error\": 0.01699999999999996, \"short_question\": \"Flu Vaccine\"}, {\"Year\": 2020.0, \"LocationAbbr\": \"US\", \"LocationDesc\": \"United States, DC & Territories\", \"Question\": \"Had a flu vaccine in the past 12 months among adults 18 years of age or older\", \"Category\": \"Prevention & Screenings\", \"StratificationCategory1\": \"Disability Type\", \"Stratification1\": \"Vision Disability\", \"StratificationCategory2\": null, \"Stratification2\": null, \"Response\": \"Yes\", \"DataValueType\": \"Age-adjusted Prevalence\", \"Data_Value\": 0.38299999999999995, \"Data_Value_Footnote_Symbol\": null, \"Data_Value_Footnote\": null, \"Low_Confidence_Limit\": 0.364, \"High_Confidence_Limit\": 0.401, \"WeightedNumber\": 5415377.0, \"margin_of_error\": 0.01800000000000007, \"short_question\": \"Flu Vaccine\"}, {\"Year\": 2020.0, \"LocationAbbr\": \"US\", \"LocationDesc\": \"United States, DC & Territories\", \"Question\": \"Had a flu vaccine in the past 12 months among adults 18 years of age or older\", \"Category\": \"Prevention & Screenings\", \"StratificationCategory1\": \"Disability Status\", \"Stratification1\": \"No Disability\", \"StratificationCategory2\": null, \"Stratification2\": null, \"Response\": \"Yes\", \"DataValueType\": \"Age-adjusted Prevalence\", \"Data_Value\": 0.449, \"Data_Value_Footnote_Symbol\": null, \"Data_Value_Footnote\": null, \"Low_Confidence_Limit\": 0.444, \"High_Confidence_Limit\": 0.45299999999999996, \"WeightedNumber\": 79706146.0, \"margin_of_error\": 0.003999999999999948, \"short_question\": \"Flu Vaccine\"}]}}, {\"mode\": \"vega-lite\"});\n",
       "</script>"
      ],
      "text/plain": [
       "alt.VConcatChart(...)"
      ]
     },
     "execution_count": 50,
     "metadata": {},
     "output_type": "execute_result"
    }
   ],
   "source": [
    "sorting = ['Any Disability', 'Cognitive Disability', 'Hearing Disability', 'Mobility Disability',\n",
    "           'Vision Disability', 'No Disability']\n",
    "\n",
    "\n",
    "main_title = alt.TitleParams(\"Many Disabled People Aren't Up To Date on Important Preventitive Care\", \n",
    "                         subtitle = '''Population-adjusted prevelance of preventitive care''',\n",
    "                         anchor = 'start',\n",
    "                         dx = 45, \n",
    "                         fontSize = 22, \n",
    "                         subtitleFontSize = 16, \n",
    "                         subtitlePadding = 6)\n",
    "\n",
    "strats = list(preventitive_care.Stratification1.unique())\n",
    "strats_dropdown = alt.binding_select(options = strats, name = \"Ability Type: \")\n",
    "strats_select = alt.selection_single(fields = ['Stratification1'], init = {'Stratification1' : 'Any Disability'}, bind = strats_dropdown, empty = 'none')\n",
    "\n",
    "coords = alt.selection_single(encodings = ['x', 'y'], on = 'mouseover', nearest = True, empty = 'none')\n",
    "\n",
    "\n",
    "lines = alt.Chart(preventitive_care, title = main_title).add_selection(\n",
    "    strats_select\n",
    ").mark_rule(\n",
    "    size = 6, \n",
    "    color = '#4676f0'\n",
    ").encode(\n",
    "    alt.Y('short_question:N', axis = alt.Axis(title = 'Care Type', labelFontSize = 11.5, titleFontSize = 13.5)), \n",
    "    alt.X('High_Confidence_Limit:Q', scale = alt.Scale(domain = [0.35, 0.87], zero = False), \n",
    "          axis = alt.Axis(title = 'Percent Up To Date', format = '.0%', labelFontSize = 11.5, titleFontSize = 13.5)), \n",
    "    alt.X2('Low_Confidence_Limit:Q'),\n",
    "    tooltip = [alt.Tooltip('Data_Value:Q', title = 'Percent Up To Date', format = '.2%'), \n",
    "               alt.Tooltip('margin_of_error:Q', title = 'Margin of Error', format = '.2%')]\n",
    ").transform_filter(strats_select)\n",
    "\n",
    "mean = alt.Chart(preventitive_care).add_selection(\n",
    "    coords\n",
    ").mark_point(\n",
    "    filled = True,\n",
    "    size = 125, \n",
    "    color = '#4676f0', \n",
    "    opacity = 1.0\n",
    ").encode(\n",
    "    y = alt.Y('short_question:N', axis = alt.Axis(labelFontSize = 100)), \n",
    "    x = alt.X('Data_Value:Q'), \n",
    "    tooltip = [alt.Tooltip('Data_Value:Q', title = 'Percent Up To Date', format = '.2%'), \n",
    "               alt.Tooltip('margin_of_error:Q', title = 'Margin of Error', format = '.2%')]\n",
    ").transform_filter(strats_select)\n",
    "\n",
    "top = alt.layer(lines, mean\n",
    ").properties(\n",
    "    width = 750, \n",
    "    height = 300\n",
    ").interactive()\n",
    "\n",
    "\n",
    "text_base = alt.Chart(preventitive_care).mark_rect(\n",
    "    color = '#fff'\n",
    ").encode(\n",
    "    y = alt.Y('short_question:N', axis = alt.Axis(title = 'Care Type', labelFontSize = 10.5, titleFontSize = 13)),\n",
    "    x = alt.X('Stratification1:N', sort = sorting, axis = alt.Axis(title = '', labelFontSize = 10.5)), \n",
    "    color = alt.condition(coords, alt.value('#7396f0'), alt.value('#f7f9fc')\n",
    "                          #alt.value('#f0f3f7')\n",
    "                         )\n",
    ")\n",
    "\n",
    "text_marks = alt.Chart(preventitive_care).mark_text(\n",
    "    baseline = 'middle'\n",
    ").encode(\n",
    "    y = alt.Y('short_question:N'), \n",
    "    x = alt.X('Stratification1:N', sort = sorting),\n",
    "    text = alt.Text('Data_Value:Q', format = \".1%\"),\n",
    ")\n",
    "\n",
    "bottom_title = alt.TitleParams('Data Table:', anchor = 'start', fontSize = 14, dx = 162, dy = -2)\n",
    "bottom = alt.layer(text_base, text_marks).properties(width = 750, title = bottom_title)\n",
    "\n",
    "alt.vconcat(top, bottom).configure_axisX(labelAngle = 0)\n",
    "\n"
   ]
  },
  {
   "cell_type": "markdown",
   "id": "f457436a",
   "metadata": {},
   "source": [
    "<h2>Other Version</h2>"
   ]
  },
  {
   "cell_type": "code",
   "execution_count": 14,
   "id": "5fc0d47c",
   "metadata": {},
   "outputs": [],
   "source": [
    "vals = ['Data_Value', 'High_Confidence_Limit', 'Low_Confidence_Limit']\n",
    "mean_by_type = preventitive_care[preventitive_care.Stratification1 != 'Any Disability']\\\n",
    "                .groupby(['Stratification1', 'Question', 'short_question'])[vals].mean()\n",
    "mean_by_type = mean_by_type.reset_index()\n",
    "\n",
    "mean_by_type['margin_of_error'] = mean_by_type['High_Confidence_Limit'] - mean_by_type['Data_Value']"
   ]
  },
  {
   "cell_type": "code",
   "execution_count": 29,
   "id": "3568c980",
   "metadata": {},
   "outputs": [],
   "source": [
    "mean_by_type['disabled_binary'] = mean_by_type['Stratification1'].apply(lambda s: np.where(s == 'No Disability', \n",
    "                                                                                           'No Disability', \n",
    "                                                                                           'Disabled'))\n"
   ]
  },
  {
   "cell_type": "code",
   "execution_count": 45,
   "id": "3042a48b",
   "metadata": {},
   "outputs": [],
   "source": [
    "questions = list(mean_by_type.Question.unique())\n",
    "sorting = ['Cognitive Disability', 'Hearing Disability', 'Mobility Disability', \n",
    "           'Vision Disability', 'No Disability']\n",
    "\n",
    "coords = alt.selection_single(encodings = ['x', 'y'], on = 'mouseover', nearest = True, empty = 'none')\n",
    "\n",
    "\n",
    "title = alt.TitleParams(\"Many Disabled People Aren't Up To Date on Important Preventitive Care\", \n",
    "                        anchor = 'start', fontSize = 18, dx = 105)\n",
    "\n",
    "select_care_type = alt.selection_single(\n",
    "    fields = ['Question'], \n",
    "    init = {'Question' : questions[0]}, \n",
    "    bind = alt.binding_select(options = questions, name = 'Select Preventive Care Type: '), \n",
    "    on = 'dragover', \n",
    "    clear = 'false'\n",
    ")\n",
    "\n",
    "lines = alt.Chart(mean_by_type, title = title).mark_rule(\n",
    "    size = 6\n",
    ").encode(\n",
    "    alt.Y('Stratification1:N', sort = sorting,\n",
    "          axis = alt.Axis(title = 'Type of Disability', titleFontSize = 13, labelFontSize = 10.5)\n",
    "         ), \n",
    "    alt.X('High_Confidence_Limit:Q', \n",
    "          axis = alt.Axis(title = 'Percent Up To Date', titleFontSize = 13, labelFontSize = 11, format = '.0%')\n",
    "          , \n",
    "          scale = alt.Scale(domain = [0.30, 0.9], zero = False)\n",
    "         ),\n",
    "    alt.X2('Low_Confidence_Limit:Q'),\n",
    "    color = alt.Color('disabled_binary:N', legend = alt.Legend(title = 'Disability Status', \n",
    "                                                              titleFontSize = 15, labelFontSize = 12)\n",
    "                     ),\n",
    "    tooltip = [alt.Tooltip('Data_Value:Q', title = 'Percent Up To Date', format = '.1%'), \n",
    "               alt.Tooltip('margin_of_error:Q', title = 'Margin of Error', format = '.1%')]\n",
    ").transform_filter(select_care_type)\n",
    "\n",
    "\n",
    "mean = alt.Chart(mean_by_type).add_selection(select_care_type, coords).mark_point(\n",
    "    filled = True,\n",
    "    size = 125,  \n",
    "    opacity = 1.0\n",
    ").encode(\n",
    "    y = alt.Y('Stratification1:N', sort = sorting), \n",
    "    x = alt.X('Data_Value:Q'), \n",
    "    color = alt.Color('disabled_binary:N'),\n",
    "    tooltip = [alt.Tooltip('Data_Value:Q', title = 'Percent Up To Date', format = '.1%'), \n",
    "               alt.Tooltip('margin_of_error:Q', title = 'Margin of Error', format = '.1%')]\n",
    ").transform_filter(select_care_type)\n",
    "\n",
    "\n",
    "zero = alt.Chart(mean_by_type).mark_rule(\n",
    "    color = 'lightblue', \n",
    "    size = 2.5\n",
    ").encode(\n",
    "    x = alt.X('Data_Value_Disabled_Mean'),\n",
    "    tooltip = alt.Tooltip('Data_Value_Disabled_Mean:Q', title = 'Average For Disabled People', format = '.0%')\n",
    ").transform_filter(select_care_type)\n",
    "\n",
    "\n",
    "c = alt.layer(lines, mean\n",
    ").properties(\n",
    "    width = 650, \n",
    "    height = 400\n",
    ")"
   ]
  },
  {
   "cell_type": "code",
   "execution_count": 46,
   "id": "b114fda1",
   "metadata": {},
   "outputs": [],
   "source": [
    "text_base = alt.Chart(mean_by_type).mark_rect(\n",
    "    color = '#fff'\n",
    ").encode(\n",
    "    y = alt.Y('short_question:N', axis = alt.Axis(title = 'Care Type', labelFontSize = 10.5, titleFontSize = 13)),\n",
    "    x = alt.X('Stratification1:N', sort = sorting, axis = alt.Axis(title = '', labelFontSize = 10.5)), \n",
    "    color = alt.condition(coords, alt.value('#7396f0'), alt.value('#f7f9fc'))\n",
    ")\n",
    "\n",
    "text_marks = alt.Chart(mean_by_type).mark_text(\n",
    "    baseline = 'middle'\n",
    ").encode(\n",
    "    y = alt.Y('short_question:N'), \n",
    "    x = alt.X('Stratification1:N', sort = sorting),\n",
    "    text = alt.Text('Data_Value:Q', format = \".1%\"),\n",
    ")\n",
    "\n",
    "bottom_title = alt.TitleParams('Data Table:', anchor = 'start', fontSize = 14, dx = 162, dy = -2)\n",
    "bottom = alt.layer(text_base, text_marks).properties(width = 650, title = bottom_title)\n"
   ]
  },
  {
   "cell_type": "code",
   "execution_count": 47,
   "id": "03f30b53",
   "metadata": {},
   "outputs": [
    {
     "data": {
      "text/html": [
       "\n",
       "<div id=\"altair-viz-aec8ee0d191d45f9a3cf4b29357a445a\"></div>\n",
       "<script type=\"text/javascript\">\n",
       "  var VEGA_DEBUG = (typeof VEGA_DEBUG == \"undefined\") ? {} : VEGA_DEBUG;\n",
       "  (function(spec, embedOpt){\n",
       "    let outputDiv = document.currentScript.previousElementSibling;\n",
       "    if (outputDiv.id !== \"altair-viz-aec8ee0d191d45f9a3cf4b29357a445a\") {\n",
       "      outputDiv = document.getElementById(\"altair-viz-aec8ee0d191d45f9a3cf4b29357a445a\");\n",
       "    }\n",
       "    const paths = {\n",
       "      \"vega\": \"https://cdn.jsdelivr.net/npm//vega@5?noext\",\n",
       "      \"vega-lib\": \"https://cdn.jsdelivr.net/npm//vega-lib?noext\",\n",
       "      \"vega-lite\": \"https://cdn.jsdelivr.net/npm//vega-lite@4.17.0?noext\",\n",
       "      \"vega-embed\": \"https://cdn.jsdelivr.net/npm//vega-embed@6?noext\",\n",
       "    };\n",
       "\n",
       "    function maybeLoadScript(lib, version) {\n",
       "      var key = `${lib.replace(\"-\", \"\")}_version`;\n",
       "      return (VEGA_DEBUG[key] == version) ?\n",
       "        Promise.resolve(paths[lib]) :\n",
       "        new Promise(function(resolve, reject) {\n",
       "          var s = document.createElement('script');\n",
       "          document.getElementsByTagName(\"head\")[0].appendChild(s);\n",
       "          s.async = true;\n",
       "          s.onload = () => {\n",
       "            VEGA_DEBUG[key] = version;\n",
       "            return resolve(paths[lib]);\n",
       "          };\n",
       "          s.onerror = () => reject(`Error loading script: ${paths[lib]}`);\n",
       "          s.src = paths[lib];\n",
       "        });\n",
       "    }\n",
       "\n",
       "    function showError(err) {\n",
       "      outputDiv.innerHTML = `<div class=\"error\" style=\"color:red;\">${err}</div>`;\n",
       "      throw err;\n",
       "    }\n",
       "\n",
       "    function displayChart(vegaEmbed) {\n",
       "      vegaEmbed(outputDiv, spec, embedOpt)\n",
       "        .catch(err => showError(`Javascript Error: ${err.message}<br>This usually means there's a typo in your chart specification. See the javascript console for the full traceback.`));\n",
       "    }\n",
       "\n",
       "    if(typeof define === \"function\" && define.amd) {\n",
       "      requirejs.config({paths});\n",
       "      require([\"vega-embed\"], displayChart, err => showError(`Error loading script: ${err.message}`));\n",
       "    } else {\n",
       "      maybeLoadScript(\"vega\", \"5\")\n",
       "        .then(() => maybeLoadScript(\"vega-lite\", \"4.17.0\"))\n",
       "        .then(() => maybeLoadScript(\"vega-embed\", \"6\"))\n",
       "        .catch(showError)\n",
       "        .then(() => displayChart(vegaEmbed));\n",
       "    }\n",
       "  })({\"config\": {\"view\": {\"continuousWidth\": 400, \"continuousHeight\": 300}, \"axisX\": {\"labelAngle\": 0}}, \"vconcat\": [{\"layer\": [{\"mark\": {\"type\": \"rule\", \"size\": 6}, \"encoding\": {\"color\": {\"field\": \"disabled_binary\", \"legend\": {\"labelFontSize\": 12, \"title\": \"Disability Status\", \"titleFontSize\": 15}, \"type\": \"nominal\"}, \"tooltip\": [{\"field\": \"Data_Value\", \"format\": \".1%\", \"title\": \"Percent Up To Date\", \"type\": \"quantitative\"}, {\"field\": \"margin_of_error\", \"format\": \".1%\", \"title\": \"Margin of Error\", \"type\": \"quantitative\"}], \"x\": {\"axis\": {\"format\": \".0%\", \"labelFontSize\": 11, \"title\": \"Percent Up To Date\", \"titleFontSize\": 13}, \"field\": \"High_Confidence_Limit\", \"scale\": {\"domain\": [0.3, 0.9], \"zero\": false}, \"type\": \"quantitative\"}, \"x2\": {\"field\": \"Low_Confidence_Limit\"}, \"y\": {\"axis\": {\"labelFontSize\": 10.5, \"title\": \"Type of Disability\", \"titleFontSize\": 13}, \"field\": \"Stratification1\", \"sort\": [\"Cognitive Disability\", \"Hearing Disability\", \"Mobility Disability\", \"Vision Disability\", \"No Disability\"], \"type\": \"nominal\"}}, \"title\": {\"text\": \"Many Disabled People Aren't Up To Date on Important Preventitive Care\", \"anchor\": \"start\", \"dx\": 105, \"fontSize\": 18}, \"transform\": [{\"filter\": {\"selection\": \"selector023\"}}]}, {\"mark\": {\"type\": \"point\", \"filled\": true, \"opacity\": 1.0, \"size\": 125}, \"encoding\": {\"color\": {\"field\": \"disabled_binary\", \"type\": \"nominal\"}, \"tooltip\": [{\"field\": \"Data_Value\", \"format\": \".1%\", \"title\": \"Percent Up To Date\", \"type\": \"quantitative\"}, {\"field\": \"margin_of_error\", \"format\": \".1%\", \"title\": \"Margin of Error\", \"type\": \"quantitative\"}], \"x\": {\"field\": \"Data_Value\", \"type\": \"quantitative\"}, \"y\": {\"field\": \"Stratification1\", \"sort\": [\"Cognitive Disability\", \"Hearing Disability\", \"Mobility Disability\", \"Vision Disability\", \"No Disability\"], \"type\": \"nominal\"}}, \"selection\": {\"selector023\": {\"type\": \"single\", \"fields\": [\"Question\"], \"init\": {\"Question\": \"Had a flu vaccine in the past 12 months among adults 18 years of age or older\"}, \"bind\": {\"input\": \"select\", \"options\": [\"Had a flu vaccine in the past 12 months among adults 18 years of age or older\", \"Mammogram in the past 2 years among females 50 to 74 years of age\", \"Routine check-up in the past year among adults 18 years of age or older\", \"Up-to-date cervical cancer screening among females 21 to 65 years of age\", \"Up-to-date colorectal cancer screening among adults 50 to 75 years of age\", \"Visited a dentist in the past year among adults 18 years of age or older\"], \"name\": \"Select Preventive Care Type: \"}, \"on\": \"dragover\", \"clear\": \"false\"}, \"selector022\": {\"type\": \"single\", \"encodings\": [\"x\", \"y\"], \"on\": \"mouseover\", \"nearest\": true, \"empty\": \"none\"}}, \"transform\": [{\"filter\": {\"selection\": \"selector023\"}}]}], \"height\": 400, \"width\": 650}, {\"layer\": [{\"mark\": {\"type\": \"rect\", \"color\": \"#fff\"}, \"encoding\": {\"color\": {\"condition\": {\"value\": \"#7396f0\", \"selection\": \"selector022\"}, \"value\": \"#f7f9fc\"}, \"x\": {\"axis\": {\"labelFontSize\": 10.5, \"title\": \"\"}, \"field\": \"Stratification1\", \"sort\": [\"Cognitive Disability\", \"Hearing Disability\", \"Mobility Disability\", \"Vision Disability\", \"No Disability\"], \"type\": \"nominal\"}, \"y\": {\"axis\": {\"labelFontSize\": 10.5, \"title\": \"Care Type\", \"titleFontSize\": 13}, \"field\": \"short_question\", \"type\": \"nominal\"}}}, {\"mark\": {\"type\": \"text\", \"baseline\": \"middle\"}, \"encoding\": {\"text\": {\"field\": \"Data_Value\", \"format\": \".1%\", \"type\": \"quantitative\"}, \"x\": {\"field\": \"Stratification1\", \"sort\": [\"Cognitive Disability\", \"Hearing Disability\", \"Mobility Disability\", \"Vision Disability\", \"No Disability\"], \"type\": \"nominal\"}, \"y\": {\"field\": \"short_question\", \"type\": \"nominal\"}}}], \"title\": {\"text\": \"Data Table:\", \"anchor\": \"start\", \"dx\": 162, \"dy\": -2, \"fontSize\": 14}, \"width\": 650}], \"data\": {\"name\": \"data-7d8d9cce5b4f93a1ba3beb45ed2ac13c\"}, \"$schema\": \"https://vega.github.io/schema/vega-lite/v4.17.0.json\", \"datasets\": {\"data-7d8d9cce5b4f93a1ba3beb45ed2ac13c\": [{\"Stratification1\": \"Cognitive Disability\", \"Question\": \"Had a flu vaccine in the past 12 months among adults 18 years of age or older\", \"short_question\": \"Flu Vaccine\", \"Data_Value\": 0.413, \"High_Confidence_Limit\": 0.424, \"Low_Confidence_Limit\": 0.402, \"margin_of_error\": 0.01100000000000001, \"disabled_binary\": \"Disabled\"}, {\"Stratification1\": \"Cognitive Disability\", \"Question\": \"Mammogram in the past 2 years among females 50 to 74 years of age\", \"short_question\": \"Mammograms\", \"Data_Value\": 0.722, \"High_Confidence_Limit\": 0.741, \"Low_Confidence_Limit\": 0.7020000000000001, \"margin_of_error\": 0.019000000000000017, \"disabled_binary\": \"Disabled\"}, {\"Stratification1\": \"Cognitive Disability\", \"Question\": \"Routine check-up in the past year among adults 18 years of age or older\", \"short_question\": \"Routine Check Up\", \"Data_Value\": 0.74, \"High_Confidence_Limit\": 0.7509999999999999, \"Low_Confidence_Limit\": 0.7290000000000001, \"margin_of_error\": 0.010999999999999899, \"disabled_binary\": \"Disabled\"}, {\"Stratification1\": \"Cognitive Disability\", \"Question\": \"Up-to-date cervical cancer screening among females 21 to 65 years of age\", \"short_question\": \"Cervical Cancer Screening\", \"Data_Value\": 0.774, \"High_Confidence_Limit\": 0.792, \"Low_Confidence_Limit\": 0.755, \"margin_of_error\": 0.018000000000000016, \"disabled_binary\": \"Disabled\"}, {\"Stratification1\": \"Cognitive Disability\", \"Question\": \"Up-to-date colorectal cancer screening among adults 50 to 75 years of age\", \"short_question\": \"Colorectcal Cancer Screening\", \"Data_Value\": 0.713, \"High_Confidence_Limit\": 0.732, \"Low_Confidence_Limit\": 0.6940000000000001, \"margin_of_error\": 0.019000000000000017, \"disabled_binary\": \"Disabled\"}, {\"Stratification1\": \"Cognitive Disability\", \"Question\": \"Visited a dentist in the past year among adults 18 years of age or older\", \"short_question\": \"Dentist Visit\", \"Data_Value\": 0.517, \"High_Confidence_Limit\": 0.529, \"Low_Confidence_Limit\": 0.505, \"margin_of_error\": 0.01200000000000001, \"disabled_binary\": \"Disabled\"}, {\"Stratification1\": \"Hearing Disability\", \"Question\": \"Had a flu vaccine in the past 12 months among adults 18 years of age or older\", \"short_question\": \"Flu Vaccine\", \"Data_Value\": 0.40700000000000003, \"High_Confidence_Limit\": 0.425, \"Low_Confidence_Limit\": 0.389, \"margin_of_error\": 0.01799999999999996, \"disabled_binary\": \"Disabled\"}, {\"Stratification1\": \"Hearing Disability\", \"Question\": \"Mammogram in the past 2 years among females 50 to 74 years of age\", \"short_question\": \"Mammograms\", \"Data_Value\": 0.752, \"High_Confidence_Limit\": 0.7759999999999999, \"Low_Confidence_Limit\": 0.726, \"margin_of_error\": 0.02399999999999991, \"disabled_binary\": \"Disabled\"}, {\"Stratification1\": \"Hearing Disability\", \"Question\": \"Routine check-up in the past year among adults 18 years of age or older\", \"short_question\": \"Routine Check Up\", \"Data_Value\": 0.736, \"High_Confidence_Limit\": 0.755, \"Low_Confidence_Limit\": 0.716, \"margin_of_error\": 0.019000000000000017, \"disabled_binary\": \"Disabled\"}, {\"Stratification1\": \"Hearing Disability\", \"Question\": \"Up-to-date cervical cancer screening among females 21 to 65 years of age\", \"short_question\": \"Cervical Cancer Screening\", \"Data_Value\": 0.762, \"High_Confidence_Limit\": 0.795, \"Low_Confidence_Limit\": 0.7240000000000001, \"margin_of_error\": 0.03300000000000003, \"disabled_binary\": \"Disabled\"}, {\"Stratification1\": \"Hearing Disability\", \"Question\": \"Up-to-date colorectal cancer screening among adults 50 to 75 years of age\", \"short_question\": \"Colorectcal Cancer Screening\", \"Data_Value\": 0.772, \"High_Confidence_Limit\": 0.789, \"Low_Confidence_Limit\": 0.754, \"margin_of_error\": 0.017000000000000015, \"disabled_binary\": \"Disabled\"}, {\"Stratification1\": \"Hearing Disability\", \"Question\": \"Visited a dentist in the past year among adults 18 years of age or older\", \"short_question\": \"Dentist Visit\", \"Data_Value\": 0.54, \"High_Confidence_Limit\": 0.56, \"Low_Confidence_Limit\": 0.519, \"margin_of_error\": 0.020000000000000018, \"disabled_binary\": \"Disabled\"}, {\"Stratification1\": \"Mobility Disability\", \"Question\": \"Had a flu vaccine in the past 12 months among adults 18 years of age or older\", \"short_question\": \"Flu Vaccine\", \"Data_Value\": 0.441, \"High_Confidence_Limit\": 0.45799999999999996, \"Low_Confidence_Limit\": 0.424, \"margin_of_error\": 0.01699999999999996, \"disabled_binary\": \"Disabled\"}, {\"Stratification1\": \"Mobility Disability\", \"Question\": \"Mammogram in the past 2 years among females 50 to 74 years of age\", \"short_question\": \"Mammograms\", \"Data_Value\": 0.74, \"High_Confidence_Limit\": 0.755, \"Low_Confidence_Limit\": 0.7240000000000001, \"margin_of_error\": 0.015000000000000013, \"disabled_binary\": \"Disabled\"}, {\"Stratification1\": \"Mobility Disability\", \"Question\": \"Routine check-up in the past year among adults 18 years of age or older\", \"short_question\": \"Routine Check Up\", \"Data_Value\": 0.8, \"High_Confidence_Limit\": 0.815, \"Low_Confidence_Limit\": 0.784, \"margin_of_error\": 0.014999999999999902, \"disabled_binary\": \"Disabled\"}, {\"Stratification1\": \"Mobility Disability\", \"Question\": \"Up-to-date cervical cancer screening among females 21 to 65 years of age\", \"short_question\": \"Cervical Cancer Screening\", \"Data_Value\": 0.784, \"High_Confidence_Limit\": 0.805, \"Low_Confidence_Limit\": 0.762, \"margin_of_error\": 0.02100000000000002, \"disabled_binary\": \"Disabled\"}, {\"Stratification1\": \"Mobility Disability\", \"Question\": \"Up-to-date colorectal cancer screening among adults 50 to 75 years of age\", \"short_question\": \"Colorectcal Cancer Screening\", \"Data_Value\": 0.748, \"High_Confidence_Limit\": 0.76, \"Low_Confidence_Limit\": 0.736, \"margin_of_error\": 0.01200000000000001, \"disabled_binary\": \"Disabled\"}, {\"Stratification1\": \"Mobility Disability\", \"Question\": \"Visited a dentist in the past year among adults 18 years of age or older\", \"short_question\": \"Dentist Visit\", \"Data_Value\": 0.51, \"High_Confidence_Limit\": 0.527, \"Low_Confidence_Limit\": 0.49200000000000005, \"margin_of_error\": 0.017000000000000015, \"disabled_binary\": \"Disabled\"}, {\"Stratification1\": \"No Disability\", \"Question\": \"Had a flu vaccine in the past 12 months among adults 18 years of age or older\", \"short_question\": \"Flu Vaccine\", \"Data_Value\": 0.449, \"High_Confidence_Limit\": 0.45299999999999996, \"Low_Confidence_Limit\": 0.444, \"margin_of_error\": 0.003999999999999948, \"disabled_binary\": \"No Disability\"}, {\"Stratification1\": \"No Disability\", \"Question\": \"Mammogram in the past 2 years among females 50 to 74 years of age\", \"short_question\": \"Mammograms\", \"Data_Value\": 0.804, \"High_Confidence_Limit\": 0.812, \"Low_Confidence_Limit\": 0.797, \"margin_of_error\": 0.008000000000000007, \"disabled_binary\": \"No Disability\"}, {\"Stratification1\": \"No Disability\", \"Question\": \"Routine check-up in the past year among adults 18 years of age or older\", \"short_question\": \"Routine Check Up\", \"Data_Value\": 0.725, \"High_Confidence_Limit\": 0.7290000000000001, \"Low_Confidence_Limit\": 0.721, \"margin_of_error\": 0.004000000000000115, \"disabled_binary\": \"No Disability\"}, {\"Stratification1\": \"No Disability\", \"Question\": \"Up-to-date cervical cancer screening among females 21 to 65 years of age\", \"short_question\": \"Cervical Cancer Screening\", \"Data_Value\": 0.8420000000000001, \"High_Confidence_Limit\": 0.848, \"Low_Confidence_Limit\": 0.836, \"margin_of_error\": 0.005999999999999894, \"disabled_binary\": \"No Disability\"}, {\"Stratification1\": \"No Disability\", \"Question\": \"Up-to-date colorectal cancer screening among adults 50 to 75 years of age\", \"short_question\": \"Colorectcal Cancer Screening\", \"Data_Value\": 0.7170000000000001, \"High_Confidence_Limit\": 0.723, \"Low_Confidence_Limit\": 0.71, \"margin_of_error\": 0.005999999999999894, \"disabled_binary\": \"No Disability\"}, {\"Stratification1\": \"No Disability\", \"Question\": \"Visited a dentist in the past year among adults 18 years of age or older\", \"short_question\": \"Dentist Visit\", \"Data_Value\": 0.6829999999999999, \"High_Confidence_Limit\": 0.688, \"Low_Confidence_Limit\": 0.679, \"margin_of_error\": 0.0050000000000000044, \"disabled_binary\": \"No Disability\"}, {\"Stratification1\": \"Vision Disability\", \"Question\": \"Had a flu vaccine in the past 12 months among adults 18 years of age or older\", \"short_question\": \"Flu Vaccine\", \"Data_Value\": 0.38299999999999995, \"High_Confidence_Limit\": 0.401, \"Low_Confidence_Limit\": 0.364, \"margin_of_error\": 0.01800000000000007, \"disabled_binary\": \"Disabled\"}, {\"Stratification1\": \"Vision Disability\", \"Question\": \"Mammogram in the past 2 years among females 50 to 74 years of age\", \"short_question\": \"Mammograms\", \"Data_Value\": 0.701, \"High_Confidence_Limit\": 0.735, \"Low_Confidence_Limit\": 0.664, \"margin_of_error\": 0.03400000000000003, \"disabled_binary\": \"Disabled\"}, {\"Stratification1\": \"Vision Disability\", \"Question\": \"Routine check-up in the past year among adults 18 years of age or older\", \"short_question\": \"Routine Check Up\", \"Data_Value\": 0.7190000000000001, \"High_Confidence_Limit\": 0.7390000000000001, \"Low_Confidence_Limit\": 0.698, \"margin_of_error\": 0.020000000000000018, \"disabled_binary\": \"Disabled\"}, {\"Stratification1\": \"Vision Disability\", \"Question\": \"Up-to-date cervical cancer screening among females 21 to 65 years of age\", \"short_question\": \"Cervical Cancer Screening\", \"Data_Value\": 0.767, \"High_Confidence_Limit\": 0.7979999999999999, \"Low_Confidence_Limit\": 0.7340000000000001, \"margin_of_error\": 0.030999999999999917, \"disabled_binary\": \"Disabled\"}, {\"Stratification1\": \"Vision Disability\", \"Question\": \"Up-to-date colorectal cancer screening among adults 50 to 75 years of age\", \"short_question\": \"Colorectcal Cancer Screening\", \"Data_Value\": 0.6970000000000001, \"High_Confidence_Limit\": 0.721, \"Low_Confidence_Limit\": 0.6709999999999999, \"margin_of_error\": 0.02399999999999991, \"disabled_binary\": \"Disabled\"}, {\"Stratification1\": \"Vision Disability\", \"Question\": \"Visited a dentist in the past year among adults 18 years of age or older\", \"short_question\": \"Dentist Visit\", \"Data_Value\": 0.498, \"High_Confidence_Limit\": 0.519, \"Low_Confidence_Limit\": 0.47700000000000004, \"margin_of_error\": 0.02100000000000002, \"disabled_binary\": \"Disabled\"}]}}, {\"mode\": \"vega-lite\"});\n",
       "</script>"
      ],
      "text/plain": [
       "alt.VConcatChart(...)"
      ]
     },
     "execution_count": 47,
     "metadata": {},
     "output_type": "execute_result"
    }
   ],
   "source": [
    "alt.vconcat(c, bottom).configure_axisX(labelAngle = 0)"
   ]
  },
  {
   "cell_type": "code",
   "execution_count": null,
   "id": "8f0f1d73",
   "metadata": {},
   "outputs": [],
   "source": []
  },
  {
   "cell_type": "code",
   "execution_count": null,
   "id": "1cf13e54",
   "metadata": {},
   "outputs": [],
   "source": []
  }
 ],
 "metadata": {
  "kernelspec": {
   "display_name": "Python 3 (ipykernel)",
   "language": "python",
   "name": "python3"
  },
  "language_info": {
   "codemirror_mode": {
    "name": "ipython",
    "version": 3
   },
   "file_extension": ".py",
   "mimetype": "text/x-python",
   "name": "python",
   "nbconvert_exporter": "python",
   "pygments_lexer": "ipython3",
   "version": "3.9.13"
  }
 },
 "nbformat": 4,
 "nbformat_minor": 5
}
